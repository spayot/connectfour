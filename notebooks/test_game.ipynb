{
 "cells": [
  {
   "cell_type": "code",
   "execution_count": 290,
   "id": "1b780ad9-08bf-4e5e-9b86-8125dcb6c2ec",
   "metadata": {},
   "outputs": [
    {
     "name": "stdout",
     "output_type": "stream",
     "text": [
      "The autoreload extension is already loaded. To reload it, use:\n",
      "  %reload_ext autoreload\n"
     ]
    }
   ],
   "source": [
    "import sys\n",
    "\n",
    "import numpy as np\n",
    "import pytest\n",
    "\n",
    "sys.path.append('../src')\n",
    "import connectfour as c4\n",
    "from connectfour import game\n",
    "\n",
    "%load_ext autoreload\n",
    "%autoreload 2"
   ]
  },
  {
   "cell_type": "code",
   "execution_count": 272,
   "id": "a5ea623f-f9d8-47aa-b6e7-07c686a1cfa2",
   "metadata": {},
   "outputs": [
    {
     "name": "stdout",
     "output_type": "stream",
     "text": [
      "[[1 1 1 1 1 1 1]\n",
      " [1 1 1 1 1 1 1]\n",
      " [1 1 1 1 1 1 1]\n",
      " [1 1 1 1 1 1 1]\n",
      " [1 1 1 1 1 1 1]\n",
      " [1 1 1 1 1 1 1]]\n"
     ]
    }
   ],
   "source": [
    "print(str(board.array))"
   ]
  },
  {
   "cell_type": "code",
   "execution_count": 276,
   "id": "d9e041c8-7846-40ad-8bc7-9d26e00601df",
   "metadata": {},
   "outputs": [],
   "source": [
    "s= 'X'.rjust(2)"
   ]
  },
  {
   "cell_type": "code",
   "execution_count": 278,
   "id": "02c2dc9e-3393-456a-981e-570117351d64",
   "metadata": {},
   "outputs": [
    {
     "data": {
      "text/plain": [
       "array([0, 1, 2, 3])"
      ]
     },
     "execution_count": 278,
     "metadata": {},
     "output_type": "execute_result"
    }
   ],
   "source": [
    "np.unique([[1,2,0],[3,1,0]])"
   ]
  },
  {
   "cell_type": "code",
   "execution_count": 269,
   "id": "66029b0b-dcb7-4fb5-a521-642b2d639118",
   "metadata": {},
   "outputs": [
    {
     "data": {
      "text/plain": [
       "'-1'"
      ]
     },
     "execution_count": 269,
     "metadata": {},
     "output_type": "execute_result"
    }
   ],
   "source": [
    "str(game.Player.o.value)"
   ]
  },
  {
   "cell_type": "code",
   "execution_count": 293,
   "id": "d32a1d5c-8a2d-46dc-9452-51fd2a7fd16d",
   "metadata": {},
   "outputs": [],
   "source": [
    "array = np.array([[0,1,0,0],[0,-1,0,1],[1,-1,1,-1]])\n",
    "board = game.ConnectFourBoard.from_array(array)"
   ]
  },
  {
   "cell_type": "code",
   "execution_count": 296,
   "id": "76bfe9d5-1c70-457f-b841-4e8e0ddce46c",
   "metadata": {},
   "outputs": [
    {
     "data": {
      "text/plain": [
       "'ConnectFourBoard\\n  .  X  .  .\\n  .  O  .  X\\n  X  O  X  O'"
      ]
     },
     "execution_count": 296,
     "metadata": {},
     "output_type": "execute_result"
    }
   ],
   "source": [
    "str(board)"
   ]
  },
  {
   "cell_type": "code",
   "execution_count": 317,
   "id": "6d5fe1db-0a37-48c9-a2fa-b8c3eefb6a92",
   "metadata": {},
   "outputs": [],
   "source": [
    "\n",
    "class TestConnectFourBoard:\n",
    "    def test_default_init(self):\n",
    "        board = game.ConnectFourBoard()\n",
    "        assert board.shape == (6,7), \"default initialization should lead to shape (6,7)\"\n",
    "\n",
    "    def test_custom_init_shape(self):\n",
    "        shape = (12,15)\n",
    "        board = game.ConnectFourBoard(shape)\n",
    "        assert board.shape == (12,15), \"board shape is not updating as expected\"\n",
    "    \n",
    "    def test_from_array_constructor_happy_path(self):\n",
    "        array = np.array([[0,1,0,0],[0,-1,0,1],[1,-1,1,-1]])\n",
    "        board = game.ConnectFourBoard.from_array(array)\n",
    "        assert board.shape == array.shape, \"from_array creates boards with incorrect shape\"\n",
    "\n",
    "    def test_from_array_constructor_invalid_values(self):\n",
    "        with pytest.raises(AssertionError):\n",
    "            array = np.array([[0,1,0,0],[0,-1,0,1],[1,-1,1,-2]])\n",
    "            board = game.ConnectFourBoard.from_array(array)\n",
    "            \n",
    "    def test_board_updates(self):\n",
    "        array = np.array([[0,1,0,0],[0,-1,0,1],[1,-1,1,-1]])\n",
    "        board = game.ConnectFourBoard.from_array(array)\n",
    "        board[0,0] = 1\n",
    "        assert board[0,0] == 1\n",
    "            \n",
    "test = TestConnectFourBoard()\n",
    "test.test_board_updates()"
   ]
  },
  {
   "cell_type": "code",
   "execution_count": 318,
   "id": "d4c00695-a861-4d4e-9767-3d85d2f93a96",
   "metadata": {},
   "outputs": [],
   "source": [
    "array = np.array([[0,1,0,0],[0,-1,0,1],[1,-1,1,-1]])\n",
    "board = game.ConnectFourBoard.from_array(array)\n",
    "board[1,2] = Player.x.value"
   ]
  },
  {
   "cell_type": "code",
   "execution_count": 373,
   "id": "ce9fbcac-98ea-4aa3-a563-3ace88395054",
   "metadata": {},
   "outputs": [
    {
     "data": {
      "text/plain": [
       "ConnectFourGameState(board:\n",
       "\tConnectFourBoard\n",
       "  .  .  .  O  X  .  .\n",
       "  .  .  .  X  X  .  .\n",
       "  .  .  .  O  O  .  .\n",
       "  X  .  .  X  X  .  .\n",
       "  X  .  O  O  O  .  .\n",
       "  O  O  X  O  X  .  .\n",
       "\tplayer=Player.x"
      ]
     },
     "execution_count": 373,
     "metadata": {},
     "output_type": "execute_result"
    }
   ],
   "source": [
    "state"
   ]
  },
  {
   "cell_type": "code",
   "execution_count": 256,
   "id": "e8d68820-8276-4954-85bd-05a3f4e1de35",
   "metadata": {},
   "outputs": [
    {
     "data": {
      "text/plain": [
       "array([[1, 1, 1, 1, 1, 1, 1],\n",
       "       [1, 1, 1, 1, 1, 1, 1],\n",
       "       [1, 1, 1, 1, 1, 1, 1],\n",
       "       [1, 1, 1, 1, 1, 1, 1],\n",
       "       [1, 1, 1, 1, 1, 1, 1],\n",
       "       [1, 1, 1, 1, 1, 1, 1]])"
      ]
     },
     "execution_count": 256,
     "metadata": {},
     "output_type": "execute_result"
    }
   ],
   "source": [
    "np.ones((6,7), dtype=int)"
   ]
  },
  {
   "cell_type": "code",
   "execution_count": null,
   "id": "0090bd9f-7811-4cbf-8034-fd47acdce1de",
   "metadata": {},
   "outputs": [],
   "source": []
  },
  {
   "cell_type": "code",
   "execution_count": 14,
   "id": "cf9f4bb4-1ea8-4669-be46-bfff99c06407",
   "metadata": {},
   "outputs": [
    {
     "name": "stdout",
     "output_type": "stream",
     "text": [
      "build_model\n",
      "Metal device set to: Apple M1 Pro\n"
     ]
    },
    {
     "name": "stderr",
     "output_type": "stream",
     "text": [
      "2022-03-09 14:29:44.747243: I tensorflow/core/common_runtime/pluggable_device/pluggable_device_factory.cc:305] Could not identify NUMA node of platform GPU ID 0, defaulting to 0. Your kernel may not have been built with NUMA support.\n",
      "2022-03-09 14:29:44.747367: I tensorflow/core/common_runtime/pluggable_device/pluggable_device_factory.cc:271] Created TensorFlow device (/job:localhost/replica:0/task:0/device:GPU:0 with 0 MB memory) -> physical PluggableDevice (device: 0, name: METAL, pci bus id: <undefined>)\n"
     ]
    },
    {
     "name": "stdout",
     "output_type": "stream",
     "text": [
      "To see model details, enter:\n",
      "\t>>> <pvn>.summary()\n"
     ]
    }
   ],
   "source": [
    "# reload pre-trained evaluator\n",
    "evaluator = c4.pvnet.PolicyValueNet(filename='../models/gen9.h5', quiet=True)"
   ]
  },
  {
   "cell_type": "code",
   "execution_count": 387,
   "id": "c37ebef1-a3d7-4deb-b40d-d0e8529b02d4",
   "metadata": {},
   "outputs": [
    {
     "name": "stdout",
     "output_type": "stream",
     "text": [
      "build_model\n",
      "To see model details, enter:\n",
      "\t>>> <pvn>.summary()\n"
     ]
    },
    {
     "name": "stderr",
     "output_type": "stream",
     "text": [
      "2022-03-11 13:33:34.752788: I tensorflow/core/grappler/optimizers/custom_graph_optimizer_registry.cc:112] Plugin optimizer for device_type GPU is enabled.\n"
     ]
    },
    {
     "data": {
      "image/png": "[encoded data removed]",
      "text/plain": [
       "<Figure size 252x216 with 1 Axes>"
      ]
     },
     "metadata": {
      "needs_background": "light"
     },
     "output_type": "display_data"
    },
    {
     "data": {
      "image/png": "[encoded data removed]",
      "text/plain": [
       "<Figure size 252x36 with 1 Axes>"
      ]
     },
     "metadata": {
      "needs_background": "light"
     },
     "output_type": "display_data"
    }
   ],
   "source": [
    "def generate_test_state(played_positions: list[int]) -> c4.game.ConnectFourGameState:\n",
    "    \"\"\"allows to generate a state, based on a succession of moves.\"\"\"\n",
    "    board = game.ConnectFourBoard()\n",
    "    state = c4.game.ConnectFourGameState(board, next_player=game.Player.x)\n",
    "    for position in played_positions:\n",
    "        action = c4.game.ConnectFourAction(position, state.next_player)\n",
    "        state = state.move(action)\n",
    "    return state\n",
    "\n",
    "state = generate_test_state([3,4,4,4,3,3,3,3,4,4,3,4,0,2,2,0,0])\n",
    "\n",
    "c4.render.renderConnectFour(state)\n",
    "evaluator = c4.pvnet.PolicyValueNet(filename='../models/gen9.h5', quiet=True)\n",
    "policy, value = evaluator.infer_from_state(state)\n",
    "c4.render.render_policy(policy, title=f\"estimated final score: {value:.3f}\")"
   ]
  },
  {
   "cell_type": "code",
   "execution_count": 394,
   "id": "e214aabc-a5bc-4cad-b4f3-b45c041cd580",
   "metadata": {},
   "outputs": [
    {
     "data": {
      "text/plain": [
       "True"
      ]
     },
     "execution_count": 394,
     "metadata": {},
     "output_type": "execute_result"
    }
   ],
   "source": [
    "board = game.ConnectFourBoard()\n",
    "state = c4.game.ConnectFourGameState(board, next_player=game.Player.x)\n",
    "state.is_game_over()"
   ]
  },
  {
   "cell_type": "code",
   "execution_count": 405,
   "id": "015a1e82-0df2-42c8-891f-d10800de8290",
   "metadata": {},
   "outputs": [],
   "source": [
    "import pandas as pd"
   ]
  },
  {
   "cell_type": "code",
   "execution_count": 409,
   "id": "eca1fe23-e57b-4fad-8963-a12fdb088c47",
   "metadata": {},
   "outputs": [],
   "source": [
    "# random self-play\n",
    "def generate_random_game(render: bool = False) -> dict:\n",
    "    board = game.ConnectFourBoard()\n",
    "    state = c4.game.ConnectFourGameState(board, next_player=game.Player.x)\n",
    "    game_length = 0\n",
    "    \n",
    "    while not state.is_game_over():\n",
    "        if render:\n",
    "            c4.render.renderConnectFour(state)\n",
    "        actions = state.get_legal_actions()\n",
    "        action = np.random.choice(actions)\n",
    "        state = state.move(action)\n",
    "        game_length +=1\n",
    "    \n",
    "    if render:\n",
    "        c4.render.renderConnectFour(state)\n",
    "        \n",
    "    return {'game_length': game_length, 'result': state.game_result}\n",
    "\n",
    "random_simulation = pd.DataFrame([generate_random_game() for _ in range(1000)])"
   ]
  },
  {
   "cell_type": "code",
   "execution_count": 410,
   "id": "8460e237-f54f-414e-8188-97184b5aaaee",
   "metadata": {},
   "outputs": [
    {
     "data": {
      "text/html": [
       "<div>\n",
       "<style scoped>\n",
       "    .dataframe tbody tr th:only-of-type {\n",
       "        vertical-align: middle;\n",
       "    }\n",
       "\n",
       "    .dataframe tbody tr th {\n",
       "        vertical-align: top;\n",
       "    }\n",
       "\n",
       "    .dataframe thead th {\n",
       "        text-align: right;\n",
       "    }\n",
       "</style>\n",
       "<table border=\"1\" class=\"dataframe\">\n",
       "  <thead>\n",
       "    <tr style=\"text-align: right;\">\n",
       "      <th></th>\n",
       "      <th>game_length</th>\n",
       "      <th>result</th>\n",
       "    </tr>\n",
       "  </thead>\n",
       "  <tbody>\n",
       "    <tr>\n",
       "      <th>count</th>\n",
       "      <td>1000.000000</td>\n",
       "      <td>1000.000000</td>\n",
       "    </tr>\n",
       "    <tr>\n",
       "      <th>mean</th>\n",
       "      <td>21.458000</td>\n",
       "      <td>0.132000</td>\n",
       "    </tr>\n",
       "    <tr>\n",
       "      <th>std</th>\n",
       "      <td>7.466591</td>\n",
       "      <td>0.989725</td>\n",
       "    </tr>\n",
       "    <tr>\n",
       "      <th>min</th>\n",
       "      <td>7.000000</td>\n",
       "      <td>-1.000000</td>\n",
       "    </tr>\n",
       "    <tr>\n",
       "      <th>25%</th>\n",
       "      <td>16.000000</td>\n",
       "      <td>-1.000000</td>\n",
       "    </tr>\n",
       "    <tr>\n",
       "      <th>50%</th>\n",
       "      <td>21.000000</td>\n",
       "      <td>1.000000</td>\n",
       "    </tr>\n",
       "    <tr>\n",
       "      <th>75%</th>\n",
       "      <td>27.000000</td>\n",
       "      <td>1.000000</td>\n",
       "    </tr>\n",
       "    <tr>\n",
       "      <th>max</th>\n",
       "      <td>42.000000</td>\n",
       "      <td>1.000000</td>\n",
       "    </tr>\n",
       "  </tbody>\n",
       "</table>\n",
       "</div>"
      ],
      "text/plain": [
       "       game_length       result\n",
       "count  1000.000000  1000.000000\n",
       "mean     21.458000     0.132000\n",
       "std       7.466591     0.989725\n",
       "min       7.000000    -1.000000\n",
       "25%      16.000000    -1.000000\n",
       "50%      21.000000     1.000000\n",
       "75%      27.000000     1.000000\n",
       "max      42.000000     1.000000"
      ]
     },
     "execution_count": 410,
     "metadata": {},
     "output_type": "execute_result"
    }
   ],
   "source": [
    "random_simulation.describe()"
   ]
  },
  {
   "cell_type": "code",
   "execution_count": 365,
   "id": "f5279501-f06b-4e6e-84a1-d48c55d8b587",
   "metadata": {},
   "outputs": [
    {
     "data": {
      "image/png": "[encoded data removed]",
      "text/plain": [
       "<Figure size 252x36 with 1 Axes>"
      ]
     },
     "metadata": {
      "needs_background": "light"
     },
     "output_type": "display_data"
    }
   ],
   "source": [
    "state.board.array = -state.board.array\n",
    "policy, value = evaluator.infer_from_state(state)\n",
    "c4.render.render_policy(policy, title=f\"estimated final score: {value:.3f}\")"
   ]
  },
  {
   "cell_type": "code",
   "execution_count": 366,
   "id": "4c9375e1-ba27-4f71-ba98-c64cb663d440",
   "metadata": {},
   "outputs": [],
   "source": [
    "p = c4.game.Player.x"
   ]
  },
  {
   "cell_type": "code",
   "execution_count": 372,
   "id": "0849cc12-695f-4199-840d-f7c700df70b3",
   "metadata": {},
   "outputs": [
    {
     "data": {
      "text/plain": [
       "<Player.x: -1>"
      ]
     },
     "execution_count": 372,
     "metadata": {},
     "output_type": "execute_result"
    }
   ],
   "source": [
    "Player['x']"
   ]
  },
  {
   "cell_type": "code",
   "execution_count": 342,
   "id": "d0696b80-c0ec-434c-a667-201ae2881166",
   "metadata": {},
   "outputs": [
    {
     "ename": "NameError",
     "evalue": "name 'next_player' is not defined",
     "output_type": "error",
     "traceback": [
      "\u001b[0;31m---------------------------------------------------------------------------\u001b[0m",
      "\u001b[0;31mNameError\u001b[0m                                 Traceback (most recent call last)",
      "\u001b[0;32m/var/folders/ds/s6rqbzwj33q811h82fdmj_6w0000gn/T/ipykernel_6961/2338639157.py\u001b[0m in \u001b[0;36m<module>\u001b[0;34m\u001b[0m\n\u001b[1;32m      4\u001b[0m \u001b[0;32mfor\u001b[0m \u001b[0mposition\u001b[0m \u001b[0;32min\u001b[0m \u001b[0mplayed_positions\u001b[0m\u001b[0;34m:\u001b[0m\u001b[0;34m\u001b[0m\u001b[0;34m\u001b[0m\u001b[0m\n\u001b[1;32m      5\u001b[0m     \u001b[0maction\u001b[0m \u001b[0;34m=\u001b[0m \u001b[0mc4\u001b[0m\u001b[0;34m.\u001b[0m\u001b[0mgame\u001b[0m\u001b[0;34m.\u001b[0m\u001b[0mConnectFourAction\u001b[0m\u001b[0;34m(\u001b[0m\u001b[0mposition\u001b[0m\u001b[0;34m,\u001b[0m \u001b[0mstate\u001b[0m\u001b[0;34m.\u001b[0m\u001b[0mplayer\u001b[0m\u001b[0;34m)\u001b[0m\u001b[0;34m\u001b[0m\u001b[0;34m\u001b[0m\u001b[0m\n\u001b[0;32m----> 6\u001b[0;31m     \u001b[0mstate\u001b[0m \u001b[0;34m=\u001b[0m \u001b[0mstate\u001b[0m\u001b[0;34m.\u001b[0m\u001b[0mmove\u001b[0m\u001b[0;34m(\u001b[0m\u001b[0maction\u001b[0m\u001b[0;34m)\u001b[0m\u001b[0;34m\u001b[0m\u001b[0;34m\u001b[0m\u001b[0m\n\u001b[0m",
      "\u001b[0;32m~/projects/connectfour/notebooks/../src/connectfour/game.py\u001b[0m in \u001b[0;36mmove\u001b[0;34m(self, action)\u001b[0m\n\u001b[1;32m    247\u001b[0m \u001b[0;34m\u001b[0m\u001b[0m\n\u001b[1;32m    248\u001b[0m         \u001b[0;31m# get next player\u001b[0m\u001b[0;34m\u001b[0m\u001b[0;34m\u001b[0m\u001b[0m\n\u001b[0;32m--> 249\u001b[0;31m         \u001b[0mnext_to_move\u001b[0m \u001b[0;34m=\u001b[0m \u001b[0mnext_player\u001b[0m\u001b[0;34m.\u001b[0m\u001b[0mget_next\u001b[0m\u001b[0;34m(\u001b[0m\u001b[0;34m)\u001b[0m\u001b[0;34m\u001b[0m\u001b[0;34m\u001b[0m\u001b[0m\n\u001b[0m\u001b[1;32m    250\u001b[0m \u001b[0;34m\u001b[0m\u001b[0m\n\u001b[1;32m    251\u001b[0m         \u001b[0;32mreturn\u001b[0m \u001b[0mConnectFourGameState\u001b[0m\u001b[0;34m(\u001b[0m\u001b[0mnew_board\u001b[0m\u001b[0;34m,\u001b[0m \u001b[0mnext_to_move\u001b[0m\u001b[0;34m)\u001b[0m\u001b[0;34m\u001b[0m\u001b[0;34m\u001b[0m\u001b[0m\n",
      "\u001b[0;31mNameError\u001b[0m: name 'next_player' is not defined"
     ]
    }
   ],
   "source": [
    "played_positions = [3,4,4,4]\n",
    "board = game.ConnectFourBoard()\n",
    "state = c4.game.ConnectFourGameState(board, player=Player.x)\n",
    "for position in played_positions:\n",
    "    action = c4.game.ConnectFourAction(position, state.player)\n",
    "    state = state.move(action)"
   ]
  },
  {
   "cell_type": "code",
   "execution_count": 341,
   "id": "c872b49a-97c3-410f-b593-cc55e13f40c4",
   "metadata": {},
   "outputs": [
    {
     "data": {
      "text/plain": [
       "{0}"
      ]
     },
     "execution_count": 341,
     "metadata": {},
     "output_type": "execute_result"
    }
   ],
   "source": [
    "set(np.unique(np.copy(board.array)))"
   ]
  },
  {
   "cell_type": "code",
   "execution_count": 330,
   "id": "c54f97df-6ac3-4dd2-9be3-c61c043d1b4e",
   "metadata": {},
   "outputs": [
    {
     "ename": "AssertionError",
     "evalue": "array values must be either {0, 1, -1}",
     "output_type": "error",
     "traceback": [
      "\u001b[0;31m---------------------------------------------------------------------------\u001b[0m",
      "\u001b[0;31mAssertionError\u001b[0m                            Traceback (most recent call last)",
      "\u001b[0;32m/var/folders/ds/s6rqbzwj33q811h82fdmj_6w0000gn/T/ipykernel_6961/2594072291.py\u001b[0m in \u001b[0;36m<module>\u001b[0;34m\u001b[0m\n\u001b[0;32m----> 1\u001b[0;31m \u001b[0mboard\u001b[0m\u001b[0;34m.\u001b[0m\u001b[0mcopy\u001b[0m\u001b[0;34m(\u001b[0m\u001b[0;34m)\u001b[0m\u001b[0;34m\u001b[0m\u001b[0;34m\u001b[0m\u001b[0m\n\u001b[0m",
      "\u001b[0;32m~/projects/connectfour/notebooks/../src/connectfour/game.py\u001b[0m in \u001b[0;36mcopy\u001b[0;34m(self)\u001b[0m\n\u001b[1;32m    142\u001b[0m \u001b[0;34m\u001b[0m\u001b[0m\n\u001b[1;32m    143\u001b[0m     \u001b[0;32mdef\u001b[0m \u001b[0mcopy\u001b[0m\u001b[0;34m(\u001b[0m\u001b[0mself\u001b[0m\u001b[0;34m)\u001b[0m\u001b[0;34m:\u001b[0m\u001b[0;34m\u001b[0m\u001b[0;34m\u001b[0m\u001b[0m\n\u001b[0;32m--> 144\u001b[0;31m         \u001b[0;32mreturn\u001b[0m \u001b[0mConnectFourBoard\u001b[0m\u001b[0;34m.\u001b[0m\u001b[0mfrom_array\u001b[0m\u001b[0;34m(\u001b[0m\u001b[0mnp\u001b[0m\u001b[0;34m.\u001b[0m\u001b[0mcopy\u001b[0m\u001b[0;34m(\u001b[0m\u001b[0mself\u001b[0m\u001b[0;34m.\u001b[0m\u001b[0marray\u001b[0m\u001b[0;34m)\u001b[0m\u001b[0;34m)\u001b[0m\u001b[0;34m\u001b[0m\u001b[0;34m\u001b[0m\u001b[0m\n\u001b[0m\u001b[1;32m    145\u001b[0m \u001b[0;34m\u001b[0m\u001b[0m\n\u001b[1;32m    146\u001b[0m     \u001b[0;32mdef\u001b[0m \u001b[0mboard_to_str\u001b[0m\u001b[0;34m(\u001b[0m\u001b[0mself\u001b[0m\u001b[0;34m)\u001b[0m \u001b[0;34m->\u001b[0m \u001b[0mstr\u001b[0m\u001b[0;34m:\u001b[0m\u001b[0;34m\u001b[0m\u001b[0;34m\u001b[0m\u001b[0m\n",
      "\u001b[0;32m~/projects/connectfour/notebooks/../src/connectfour/game.py\u001b[0m in \u001b[0;36mfrom_array\u001b[0;34m(cls, array)\u001b[0m\n\u001b[1;32m    126\u001b[0m         \u001b[0;31m# verify that values are valid\u001b[0m\u001b[0;34m\u001b[0m\u001b[0;34m\u001b[0m\u001b[0m\n\u001b[1;32m    127\u001b[0m         \u001b[0mvalid_values\u001b[0m \u001b[0;34m=\u001b[0m \u001b[0;34m{\u001b[0m\u001b[0mPlayer\u001b[0m\u001b[0;34m.\u001b[0m\u001b[0mx\u001b[0m\u001b[0;34m.\u001b[0m\u001b[0mvalue\u001b[0m\u001b[0;34m,\u001b[0m \u001b[0mPlayer\u001b[0m\u001b[0;34m.\u001b[0m\u001b[0mo\u001b[0m\u001b[0;34m.\u001b[0m\u001b[0mvalue\u001b[0m\u001b[0;34m,\u001b[0m \u001b[0;36m0\u001b[0m\u001b[0;34m}\u001b[0m\u001b[0;34m\u001b[0m\u001b[0;34m\u001b[0m\u001b[0m\n\u001b[0;32m--> 128\u001b[0;31m         \u001b[0;32massert\u001b[0m \u001b[0mset\u001b[0m\u001b[0;34m(\u001b[0m\u001b[0mnp\u001b[0m\u001b[0;34m.\u001b[0m\u001b[0munique\u001b[0m\u001b[0;34m(\u001b[0m\u001b[0marray\u001b[0m\u001b[0;34m)\u001b[0m\u001b[0;34m)\u001b[0m \u001b[0;34m==\u001b[0m \u001b[0mvalid_values\u001b[0m\u001b[0;34m,\u001b[0m \u001b[0;34mf\"array values must be either {valid_values}\"\u001b[0m\u001b[0;34m\u001b[0m\u001b[0;34m\u001b[0m\u001b[0m\n\u001b[0m\u001b[1;32m    129\u001b[0m \u001b[0;34m\u001b[0m\u001b[0m\n\u001b[1;32m    130\u001b[0m         \u001b[0mboard\u001b[0m \u001b[0;34m=\u001b[0m \u001b[0mcls\u001b[0m\u001b[0;34m(\u001b[0m\u001b[0marray\u001b[0m\u001b[0;34m.\u001b[0m\u001b[0mshape\u001b[0m\u001b[0;34m)\u001b[0m\u001b[0;34m\u001b[0m\u001b[0;34m\u001b[0m\u001b[0m\n",
      "\u001b[0;31mAssertionError\u001b[0m: array values must be either {0, 1, -1}"
     ]
    }
   ],
   "source": [
    "board.copy()"
   ]
  },
  {
   "cell_type": "code",
   "execution_count": 326,
   "id": "fbfcb67a-8b51-4983-be9e-8ed50bde6374",
   "metadata": {},
   "outputs": [
    {
     "data": {
      "text/plain": [
       "x:3 p:-1"
      ]
     },
     "execution_count": 326,
     "metadata": {},
     "output_type": "execute_result"
    }
   ],
   "source": [
    "action"
   ]
  },
  {
   "cell_type": "code",
   "execution_count": 240,
   "id": "5f5de84d-5c11-4692-980a-7f65672204e0",
   "metadata": {},
   "outputs": [
    {
     "data": {
      "text/plain": [
       "<Player.x: -1>"
      ]
     },
     "execution_count": 240,
     "metadata": {},
     "output_type": "execute_result"
    }
   ],
   "source": [
    "from enum import Enum\n",
    "\n",
    "class Player(Enum):\n",
    "    x = -1\n",
    "    o = 1\n",
    "    \n",
    "    def get_next(self):\n",
    "        if self == Player.x:\n",
    "            return Player.o\n",
    "        else:\n",
    "            return Player.x\n",
    "\n",
    "player = Player.o\n",
    "player.get_next()"
   ]
  },
  {
   "cell_type": "code",
   "execution_count": null,
   "id": "d29a51ae-b3d7-402a-a4ff-ea82dd595c96",
   "metadata": {},
   "outputs": [],
   "source": []
  },
  {
   "cell_type": "code",
   "execution_count": 127,
   "id": "1afde922-23da-4fab-a3ed-a95d0a48186e",
   "metadata": {},
   "outputs": [
    {
     "data": {
      "text/plain": [
       "DictToObject(name=test, board={'width': 7, 'height': 6}, pvn={'block_size': 1, 'l2_const': '1e-4'}, training_config={}, mcts={'C_PUCT': 4, 'sims': 100, 'tau': 1}, selfplay={'tau_start': 1, 'tau_end': 0.1, 'threshold': 10})"
      ]
     },
     "execution_count": 127,
     "metadata": {},
     "output_type": "execute_result"
    }
   ],
   "source": [
    "import yaml\n",
    "\n",
    "class DictToObject:\n",
    "    def __init__(self, d: dict):\n",
    "        self._d = d\n",
    "        for k, v in d.items():\n",
    "            if type(v) == dict:\n",
    "                new_val = DictToObject(v)\n",
    "            elif type(v) == list:\n",
    "                new_val = [DictToObject(element) for element in d]\n",
    "            else:\n",
    "                new_val = v\n",
    "\n",
    "            setattr(self, k, new_val)\n",
    "            \n",
    "    def __repr__(self) -> str:\n",
    "        attributes = [f\"{k}={v}\" for k,v in self.to_dict().items()]\n",
    "        \n",
    "        return f\"DictToObject({', '.join(attributes)})\"\n",
    "    \n",
    "    def to_dict(self):\n",
    "        return self._d\n",
    "\n",
    "with open('../config.yaml', 'r') as f:\n",
    "    config = yaml.safe_load(f)\n",
    "    \n",
    "config = DictToObject(config)\n",
    "\n",
    "config.to_dict()\n",
    "config\n",
    "            \n",
    "    \n",
    "        "
   ]
  },
  {
   "cell_type": "code",
   "execution_count": 110,
   "id": "5b87347d-71f8-4073-ae28-d3c5d5e989f1",
   "metadata": {},
   "outputs": [
    {
     "data": {
      "text/plain": [
       "\"name=test,board_config=DictToObject({'width': 7, 'height': 6}),pvn_config=DictToObject({'block_size': 1, 'l2_const': '1e-4'}),training_config=DictToObject({}),mcts_config=DictToObject({'C_PUCT': 4, 'sims': 100, 'tau': 1}),selfplay_config=DictToObject({'tau_start': 1, 'tau_end': 0.1, 'threshold': 10})\""
      ]
     },
     "execution_count": 110,
     "metadata": {},
     "output_type": "execute_result"
    }
   ],
   "source": [
    "attributes = [f\"{k}={v}\" for k,v in config.__dict__.items()]\n",
    "\",\".join(attributes)"
   ]
  },
  {
   "cell_type": "code",
   "execution_count": 84,
   "id": "5f785e37-b399-489b-b4f5-2dc5e8abf709",
   "metadata": {},
   "outputs": [],
   "source": [
    "config = Config()"
   ]
  },
  {
   "cell_type": "code",
   "execution_count": 86,
   "id": "37d2c83d-0467-4d0f-814a-ad53909f7e09",
   "metadata": {},
   "outputs": [
    {
     "data": {
      "text/plain": [
       "{'width': 7, 'height': 6}"
      ]
     },
     "execution_count": 86,
     "metadata": {},
     "output_type": "execute_result"
    }
   ],
   "source": [
    "config.board_config"
   ]
  },
  {
   "cell_type": "code",
   "execution_count": 72,
   "id": "a2ccdceb-4e8d-452e-8495-b66218d11eaf",
   "metadata": {},
   "outputs": [
    {
     "data": {
      "text/plain": [
       "6"
      ]
     },
     "execution_count": 72,
     "metadata": {},
     "output_type": "execute_result"
    }
   ],
   "source": [
    "m.board_config.height"
   ]
  },
  {
   "cell_type": "code",
   "execution_count": null,
   "id": "2c1bfb42-6cc4-4b06-b82e-798ad3948043",
   "metadata": {},
   "outputs": [],
   "source": []
  },
  {
   "cell_type": "code",
   "execution_count": 229,
   "id": "a652041e-6383-4d1f-a7db-5f39bbd7b9d1",
   "metadata": {},
   "outputs": [
    {
     "data": {
      "text/plain": [
       "-1"
      ]
     },
     "execution_count": 229,
     "metadata": {},
     "output_type": "execute_result"
    }
   ],
   "source": [
    "state.game_result"
   ]
  },
  {
   "cell_type": "code",
   "execution_count": 204,
   "id": "bd1c888e-0653-4109-aaaf-203beaad9c25",
   "metadata": {},
   "outputs": [
    {
     "ename": "IndexError",
     "evalue": "index 0 is out of bounds for axis 0 with size 0",
     "output_type": "error",
     "traceback": [
      "\u001b[0;31m---------------------------------------------------------------------------\u001b[0m",
      "\u001b[0;31mIndexError\u001b[0m                                Traceback (most recent call last)",
      "\u001b[0;32m/var/folders/ds/s6rqbzwj33q811h82fdmj_6w0000gn/T/ipykernel_6961/1660165077.py\u001b[0m in \u001b[0;36m<module>\u001b[0;34m\u001b[0m\n\u001b[0;32m----> 1\u001b[0;31m \u001b[0mc4\u001b[0m\u001b[0;34m.\u001b[0m\u001b[0mviz\u001b[0m\u001b[0;34m.\u001b[0m\u001b[0mcompare_players\u001b[0m\u001b[0;34m(\u001b[0m\u001b[0mlogpath\u001b[0m\u001b[0;34m=\u001b[0m\u001b[0;34m'../logs'\u001b[0m\u001b[0;34m)\u001b[0m\u001b[0;34m\u001b[0m\u001b[0;34m\u001b[0m\u001b[0m\n\u001b[0m",
      "\u001b[0;32m~/projects/connectfour/notebooks/../src/connectfour/viz.py\u001b[0m in \u001b[0;36mcompare_players\u001b[0;34m(config_list, logpath)\u001b[0m\n\u001b[1;32m     85\u001b[0m \u001b[0;32mdef\u001b[0m \u001b[0mcompare_players\u001b[0m\u001b[0;34m(\u001b[0m\u001b[0mconfig_list\u001b[0m\u001b[0;34m=\u001b[0m\u001b[0;32mNone\u001b[0m\u001b[0;34m,\u001b[0m \u001b[0mlogpath\u001b[0m\u001b[0;34m=\u001b[0m\u001b[0;34m'logs/'\u001b[0m\u001b[0;34m)\u001b[0m\u001b[0;34m:\u001b[0m\u001b[0;34m\u001b[0m\u001b[0;34m\u001b[0m\u001b[0m\n\u001b[1;32m     86\u001b[0m     \u001b[0mfig\u001b[0m\u001b[0;34m,\u001b[0m \u001b[0max\u001b[0m \u001b[0;34m=\u001b[0m \u001b[0mplt\u001b[0m\u001b[0;34m.\u001b[0m\u001b[0msubplots\u001b[0m\u001b[0;34m(\u001b[0m\u001b[0;36m1\u001b[0m\u001b[0;34m,\u001b[0m\u001b[0;36m2\u001b[0m\u001b[0;34m,\u001b[0m\u001b[0mfigsize\u001b[0m\u001b[0;34m=\u001b[0m\u001b[0;34m(\u001b[0m\u001b[0;36m20\u001b[0m\u001b[0;34m,\u001b[0m\u001b[0;36m6\u001b[0m\u001b[0;34m)\u001b[0m\u001b[0;34m)\u001b[0m\u001b[0;34m\u001b[0m\u001b[0;34m\u001b[0m\u001b[0m\n\u001b[0;32m---> 87\u001b[0;31m     \u001b[0mplot_log_cdfs\u001b[0m\u001b[0;34m(\u001b[0m\u001b[0mconfig_list\u001b[0m\u001b[0;34m,\u001b[0m\u001b[0max\u001b[0m\u001b[0;34m=\u001b[0m\u001b[0max\u001b[0m\u001b[0;34m[\u001b[0m\u001b[0;36m0\u001b[0m\u001b[0;34m]\u001b[0m\u001b[0;34m,\u001b[0m \u001b[0mlogpath\u001b[0m\u001b[0;34m=\u001b[0m\u001b[0mlogpath\u001b[0m\u001b[0;34m)\u001b[0m\u001b[0;34m\u001b[0m\u001b[0;34m\u001b[0m\u001b[0m\n\u001b[0m\u001b[1;32m     88\u001b[0m     \u001b[0mplot_time_per_move\u001b[0m\u001b[0;34m(\u001b[0m\u001b[0mconfig_list\u001b[0m\u001b[0;34m,\u001b[0m\u001b[0max\u001b[0m\u001b[0;34m=\u001b[0m\u001b[0max\u001b[0m\u001b[0;34m[\u001b[0m\u001b[0;36m1\u001b[0m\u001b[0;34m]\u001b[0m\u001b[0;34m)\u001b[0m\u001b[0;34m\u001b[0m\u001b[0;34m\u001b[0m\u001b[0m\n\u001b[1;32m     89\u001b[0m     \u001b[0mplt\u001b[0m\u001b[0;34m.\u001b[0m\u001b[0mtight_layout\u001b[0m\u001b[0;34m(\u001b[0m\u001b[0;34m)\u001b[0m\u001b[0;34m\u001b[0m\u001b[0;34m\u001b[0m\u001b[0m\n",
      "\u001b[0;32m~/projects/connectfour/notebooks/../src/connectfour/viz.py\u001b[0m in \u001b[0;36mplot_log_cdfs\u001b[0;34m(config_list, logpath, ax)\u001b[0m\n\u001b[1;32m     52\u001b[0m \u001b[0;34m\u001b[0m\u001b[0m\n\u001b[1;32m     53\u001b[0m     \u001b[0;32mfor\u001b[0m \u001b[0mdf\u001b[0m \u001b[0;32min\u001b[0m \u001b[0mdfs\u001b[0m\u001b[0;34m:\u001b[0m\u001b[0;34m\u001b[0m\u001b[0;34m\u001b[0m\u001b[0m\n\u001b[0;32m---> 54\u001b[0;31m         \u001b[0m_plot_self_play_cdf\u001b[0m\u001b[0;34m(\u001b[0m\u001b[0mdf\u001b[0m\u001b[0;34m,\u001b[0m \u001b[0max\u001b[0m\u001b[0;34m)\u001b[0m\u001b[0;34m\u001b[0m\u001b[0;34m\u001b[0m\u001b[0m\n\u001b[0m\u001b[1;32m     55\u001b[0m     \u001b[0max\u001b[0m\u001b[0;34m.\u001b[0m\u001b[0mset_title\u001b[0m\u001b[0;34m(\u001b[0m\u001b[0;34m\"distribution of number of moves per game\"\u001b[0m\u001b[0;34m)\u001b[0m\u001b[0;34m;\u001b[0m\u001b[0;34m\u001b[0m\u001b[0;34m\u001b[0m\u001b[0m\n\u001b[1;32m     56\u001b[0m     \u001b[0mplt\u001b[0m\u001b[0;34m.\u001b[0m\u001b[0mxlim\u001b[0m\u001b[0;34m(\u001b[0m\u001b[0;34m[\u001b[0m\u001b[0;36m5\u001b[0m\u001b[0;34m,\u001b[0m\u001b[0;36m43\u001b[0m\u001b[0;34m]\u001b[0m\u001b[0;34m)\u001b[0m\u001b[0;34m\u001b[0m\u001b[0;34m\u001b[0m\u001b[0m\n",
      "\u001b[0;32m~/projects/connectfour/notebooks/../src/connectfour/viz.py\u001b[0m in \u001b[0;36m_plot_self_play_cdf\u001b[0;34m(df, ax)\u001b[0m\n\u001b[1;32m     31\u001b[0m     \u001b[0;34m\"\"\"\"\"\"\u001b[0m\u001b[0;34m\u001b[0m\u001b[0;34m\u001b[0m\u001b[0m\n\u001b[1;32m     32\u001b[0m     \u001b[0mx\u001b[0m\u001b[0;34m,\u001b[0m\u001b[0my\u001b[0m \u001b[0;34m=\u001b[0m \u001b[0mcdf\u001b[0m\u001b[0;34m(\u001b[0m\u001b[0mdf\u001b[0m\u001b[0;34m.\u001b[0m\u001b[0mgame_length\u001b[0m\u001b[0;34m)\u001b[0m\u001b[0;34m\u001b[0m\u001b[0;34m\u001b[0m\u001b[0m\n\u001b[0;32m---> 33\u001b[0;31m     \u001b[0max\u001b[0m\u001b[0;34m.\u001b[0m\u001b[0mplot\u001b[0m\u001b[0;34m(\u001b[0m\u001b[0mx\u001b[0m\u001b[0;34m,\u001b[0m\u001b[0my\u001b[0m\u001b[0;34m,\u001b[0m \u001b[0mlabel\u001b[0m\u001b[0;34m=\u001b[0m\u001b[0;34mf\"{df.evaluator_name[0]}_{df.n_sims[0]}_{df.tau[0]}\"\u001b[0m\u001b[0;34m)\u001b[0m\u001b[0;34m\u001b[0m\u001b[0;34m\u001b[0m\u001b[0m\n\u001b[0m\u001b[1;32m     34\u001b[0m \u001b[0;34m\u001b[0m\u001b[0m\n\u001b[1;32m     35\u001b[0m \u001b[0;34m\u001b[0m\u001b[0m\n",
      "\u001b[0;32m~/miniforge3/lib/python3.9/site-packages/pandas/core/series.py\u001b[0m in \u001b[0;36m__getitem__\u001b[0;34m(self, key)\u001b[0m\n\u001b[1;32m    937\u001b[0m \u001b[0;34m\u001b[0m\u001b[0m\n\u001b[1;32m    938\u001b[0m         \u001b[0;32mif\u001b[0m \u001b[0mis_integer\u001b[0m\u001b[0;34m(\u001b[0m\u001b[0mkey\u001b[0m\u001b[0;34m)\u001b[0m \u001b[0;32mand\u001b[0m \u001b[0mself\u001b[0m\u001b[0;34m.\u001b[0m\u001b[0mindex\u001b[0m\u001b[0;34m.\u001b[0m\u001b[0m_should_fallback_to_positional\u001b[0m\u001b[0;34m(\u001b[0m\u001b[0;34m)\u001b[0m\u001b[0;34m:\u001b[0m\u001b[0;34m\u001b[0m\u001b[0;34m\u001b[0m\u001b[0m\n\u001b[0;32m--> 939\u001b[0;31m             \u001b[0;32mreturn\u001b[0m \u001b[0mself\u001b[0m\u001b[0;34m.\u001b[0m\u001b[0m_values\u001b[0m\u001b[0;34m[\u001b[0m\u001b[0mkey\u001b[0m\u001b[0;34m]\u001b[0m\u001b[0;34m\u001b[0m\u001b[0;34m\u001b[0m\u001b[0m\n\u001b[0m\u001b[1;32m    940\u001b[0m \u001b[0;34m\u001b[0m\u001b[0m\n\u001b[1;32m    941\u001b[0m         \u001b[0;32melif\u001b[0m \u001b[0mkey_is_scalar\u001b[0m\u001b[0;34m:\u001b[0m\u001b[0;34m\u001b[0m\u001b[0;34m\u001b[0m\u001b[0m\n",
      "\u001b[0;31mIndexError\u001b[0m: index 0 is out of bounds for axis 0 with size 0"
     ]
    },
    {
     "data": {
      "image/png": "[encoded data removed]",
      "text/plain": [
       "<Figure size 1440x432 with 2 Axes>"
      ]
     },
     "metadata": {
      "needs_background": "light"
     },
     "output_type": "display_data"
    }
   ],
   "source": [
    "c4.viz.compare_players(logpath='../logs')"
   ]
  },
  {
   "cell_type": "code",
   "execution_count": 194,
   "id": "046041fa-13c9-4db1-9eeb-1e67d381e75b",
   "metadata": {},
   "outputs": [
    {
     "data": {
      "text/plain": [
       "array([[ 0,  0,  0,  0,  0,  0,  0],\n",
       "       [ 0,  0,  0,  0,  0,  0,  0],\n",
       "       [ 0,  0,  0,  0,  0,  0,  0],\n",
       "       [ 0,  0,  0,  0,  0,  0,  0],\n",
       "       [ 0,  0,  0,  0, -1,  0,  0],\n",
       "       [ 0,  0,  0, -1,  1,  0,  0]])"
      ]
     },
     "execution_count": 194,
     "metadata": {},
     "output_type": "execute_result"
    }
   ],
   "source": [
    "state.board"
   ]
  },
  {
   "cell_type": "code",
   "execution_count": null,
   "id": "e4d75b1c-dbeb-4044-bc47-f62d8ebb50c1",
   "metadata": {},
   "outputs": [],
   "source": [
    "class ConnectFourBoard:\n",
    "    def __init__(self, x_size, y_size):\n",
    "        self.board = np.zeros(x_size, y_size)\n",
    "        \n",
    "    def update_board(self, column, )"
   ]
  },
  {
   "cell_type": "code",
   "execution_count": 16,
   "id": "216043b7-4d8b-424f-aeeb-472259e4cdbe",
   "metadata": {},
   "outputs": [
    {
     "name": "stderr",
     "output_type": "stream",
     "text": [
      "2022-03-09 14:30:55.289730: W tensorflow/core/platform/profile_utils/cpu_utils.cc:128] Failed to get CPU frequency: 0 Hz\n",
      "2022-03-09 14:30:55.337157: I tensorflow/core/grappler/optimizers/custom_graph_optimizer_registry.cc:112] Plugin optimizer for device_type GPU is enabled.\n"
     ]
    },
    {
     "data": {
      "text/plain": [
       "(array([0.02277379, 0.12248434, 0.14792278, 0.42892304, 0.15953705,\n",
       "        0.10054208, 0.01781694], dtype=float32),\n",
       " 0.11540254950523376)"
      ]
     },
     "execution_count": 16,
     "metadata": {},
     "output_type": "execute_result"
    }
   ],
   "source": [
    "state = np.zeros((6,7))\n",
    "state = c4.game.ConnectFourGameState(state)\n",
    "evaluator.infer_from_state(state)"
   ]
  },
  {
   "cell_type": "code",
   "execution_count": 24,
   "id": "0be1e61c-3bed-4f09-a0a2-2ae6abbd9206",
   "metadata": {},
   "outputs": [
    {
     "data": {
      "text/plain": [
       "[x:0 v:1, x:1 v:1, x:2 v:1, x:3 v:1, x:4 v:1, x:5 v:1, x:6 v:1]"
      ]
     },
     "execution_count": 24,
     "metadata": {},
     "output_type": "execute_result"
    }
   ],
   "source": [
    "state.get_legal_actions()"
   ]
  },
  {
   "cell_type": "code",
   "execution_count": 168,
   "id": "acd166ae-2143-4aae-9468-fcb0cda73cd6",
   "metadata": {},
   "outputs": [
    {
     "data": {
      "image/png": "[encoded data removed]",
      "text/plain": [
       "<Figure size 252x216 with 1 Axes>"
      ]
     },
     "metadata": {
      "needs_background": "light"
     },
     "output_type": "display_data"
    },
    {
     "data": {
      "image/png": "[encoded data removed]",
      "text/plain": [
       "<Figure size 252x36 with 1 Axes>"
      ]
     },
     "metadata": {
      "needs_background": "light"
     },
     "output_type": "display_data"
    }
   ],
   "source": [
    "state = c4.game.ConnectFourGameState(np.zeros((6,7)), next_to_move=-1)\n",
    "actions = [(3,-1),(4,1), (4,-1)]\n",
    "for action in actions:\n",
    "    state = state.move(c4.game.ConnectFourAction(*action))\n",
    "c4.render.renderConnectFour(state)\n",
    "policy, value = evaluator.infer_from_state(state)\n",
    "c4.render.render_policy(policy, title=f\"estimated final score: {value:.3f}\")"
   ]
  },
  {
   "cell_type": "code",
   "execution_count": null,
   "id": "f447b787-126a-468b-a4ee-880d988fa539",
   "metadata": {},
   "outputs": [],
   "source": [
    "import yaml\n",
    "\n"
   ]
  },
  {
   "cell_type": "code",
   "execution_count": 41,
   "id": "b15e61ae-8ed3-443f-862f-fb6817ba9233",
   "metadata": {},
   "outputs": [
    {
     "data": {
      "text/plain": [
       "AzPlayer(evaluator=PolicyValueNet(name=gen9))"
      ]
     },
     "execution_count": 41,
     "metadata": {},
     "output_type": "execute_result"
    }
   ],
   "source": [
    "player = c4.player.AzPlayer(evaluator)\n",
    "player"
   ]
  },
  {
   "cell_type": "code",
   "execution_count": 22,
   "id": "90063f27-3f25-4926-a146-f83e34ea267e",
   "metadata": {},
   "outputs": [
    {
     "data": {
      "image/png": "[encoded data removed]",
      "text/plain": [
       "<Figure size 252x216 with 1 Axes>"
      ]
     },
     "metadata": {
      "needs_background": "light"
     },
     "output_type": "display_data"
    },
    {
     "data": {
      "image/png": "[encoded data removed]",
      "text/plain": [
       "<Figure size 252x36 with 1 Axes>"
      ]
     },
     "metadata": {
      "needs_background": "light"
     },
     "output_type": "display_data"
    }
   ],
   "source": [
    "state = np.zeros((6,7))\n",
    "state.move\n",
    "c4.render.renderConnectFour(state)\n",
    "c4.render.render_policy(evaluator.infer_from_state(state)[0], title=\"\")"
   ]
  },
  {
   "cell_type": "code",
   "execution_count": 3,
   "id": "72dde1bb-4112-4c26-88c4-b60e8f17b3ac",
   "metadata": {},
   "outputs": [
    {
     "data": {
      "text/plain": [
       "x:1 v:1"
      ]
     },
     "execution_count": 3,
     "metadata": {},
     "output_type": "execute_result"
    }
   ],
   "source": [
    "\n",
    "c4.game.ConnectFourGameState()"
   ]
  }
 ],
 "metadata": {
  "kernelspec": {
   "display_name": "Python 3 (ipykernel)",
   "language": "python",
   "name": "python3"
  },
  "language_info": {
   "codemirror_mode": {
    "name": "ipython",
    "version": 3
   },
   "file_extension": ".py",
   "mimetype": "text/x-python",
   "name": "python",
   "nbconvert_exporter": "python",
   "pygments_lexer": "ipython3",
   "version": "3.9.7"
  }
 },
 "nbformat": 4,
 "nbformat_minor": 5
}
